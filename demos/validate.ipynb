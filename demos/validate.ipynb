{
 "cells": [
  {
   "cell_type": "markdown",
   "metadata": {},
   "source": [
    "# Table of Content\n",
    "\n",
    "* [Validation Operations](#validation-operations)\n",
    "    1. [File format validation](#file-format-validation)\n",
    "    2. [Path validation](#path-validation)\n",
    "    3. [Check for corrupt or invalid image](#check-for-corrupt-or-invalid-image)\n",
    "    4. [Detect Duplicate Images in a Directory Using Hash Comparison](#detect-duplicate-images-in-a-directory-using-hash-comparison)\n",
    "    5. [Find duplicate files in two directory using name](#find-duplicate-files-in-two-directory-using-name)\n",
    "    6. [Check image dimension and size](#check-image-dimension-and-size)\n",
    "    7. [Check mask size with image](#check-mask-size-with-image)\n",
    "    8. [Search in directory](#search-in-directory)\n",
    "    9. [Search in CSV](#search-in-csv)"
   ]
  },
  {
   "cell_type": "markdown",
   "metadata": {},
   "source": [
    "## Validation Operations"
   ]
  },
  {
   "cell_type": "markdown",
   "metadata": {},
   "source": [
    "### File format validation \n",
    "`validate.extension(file_path, valid_formats=['.jpg', '.png', '.jpeg'])` : This function checks if the files has a valid format by comparing the file extension.\n",
    "\n",
    "Parameters:\n",
    "- `file_paths`[list]: list of paths of the file to check.\n",
    "- `valid_formats`: A list of valid file extensions (default is `['.jpg', '.png', '.jpeg']`).\n",
    "\n",
    " Returns:\n",
    "- list of bools`True` if the file has a valid format.\n",
    "- `False` otherwise."
   ]
  },
  {
   "cell_type": "code",
   "execution_count": 1,
   "metadata": {},
   "outputs": [],
   "source": [
    "from core_assist import validate"
   ]
  },
  {
   "cell_type": "code",
   "execution_count": 2,
   "metadata": {},
   "outputs": [
    {
     "name": "stdout",
     "output_type": "stream",
     "text": [
      "[True, False, False]\n"
     ]
    }
   ],
   "source": [
    "file_path1 = \"../assets/image_ops_sample1.jpg\" \n",
    "file_path2 = \"../demos/validate.ipynb\"\n",
    "file_path3 = \"xyz.csv\"\n",
    "print(validate.extension(file_paths=[file_path1,file_path2,file_path3]))\n"
   ]
  },
  {
   "cell_type": "markdown",
   "metadata": {},
   "source": [
    "### Path validation \n",
    "`vaidate.path(file_path)`: This function checks if the specified path exists and is a file.\n",
    "\n",
    "Parameters:\n",
    "- `file_path`: The path to check.\n",
    "\n",
    "Returns:\n",
    "- `True` if the path exists and is a file.\n",
    "- `False` otherwise."
   ]
  },
  {
   "cell_type": "code",
   "execution_count": 3,
   "metadata": {},
   "outputs": [
    {
     "name": "stdout",
     "output_type": "stream",
     "text": [
      "True\n",
      "True\n",
      "False\n"
     ]
    }
   ],
   "source": [
    "print(validate.path(file_path=file_path1))\n",
    "print(validate.path(file_path=file_path2))\n",
    "print(validate.path(file_path=file_path3))"
   ]
  },
  {
   "cell_type": "markdown",
   "metadata": {},
   "source": [
    "### Check for corrupt or invalid image\n",
    "`vaidate.image(file_path)`: This function checks if the image file is valid or corrupt by attempting to load it.\n",
    "\n",
    "Parameters:\n",
    "- `file_path`: The path of the image file.\n",
    "\n",
    "Returns:\n",
    "- `True` if the image is valid.\n",
    "- `False` if the image is corrupt or invalid."
   ]
  },
  {
   "cell_type": "code",
   "execution_count": 4,
   "metadata": {},
   "outputs": [
    {
     "name": "stdout",
     "output_type": "stream",
     "text": [
      "True\n",
      "False\n"
     ]
    }
   ],
   "source": [
    "print(validate.image(file_path=file_path1))\n",
    "print(validate.image(file_path=file_path2))"
   ]
  },
  {
   "cell_type": "markdown",
   "metadata": {},
   "source": [
    "### Detect Duplicate Images in a Directory Using Hash Comparison\n",
    "`vaidate.find_content_duplicate(directory)` : This function detects duplicate images in a directory using hash comparison.\n",
    "\n",
    "Parameters:\n",
    "- `directory`: The directory to search for duplicate images.\n",
    "\n",
    "Returns:\n",
    "- A list of duplicate file names found in the directory."
   ]
  },
  {
   "cell_type": "code",
   "execution_count": 6,
   "metadata": {},
   "outputs": [
    {
     "name": "stdout",
     "output_type": "stream",
     "text": [
      "[]\n"
     ]
    }
   ],
   "source": [
    "duplicate = validate.find_content_duplicate(dir=\"../assets\")\n",
    "print(duplicate)"
   ]
  },
  {
   "cell_type": "markdown",
   "metadata": {},
   "source": [
    "### Find duplicate files in two directory using name\n",
    "`find_dir_common_files(dir1, dir2)`: Find common file names between two directories based on file names.\n",
    "\n",
    "Parameters:\n",
    "- `dir1`: Path to the first directory.\n",
    "- `dir2`: Path to the second directory.\n",
    "\n",
    "Returns:\n",
    "- List of common file names.\n"
   ]
  },
  {
   "cell_type": "code",
   "execution_count": 9,
   "metadata": {},
   "outputs": [
    {
     "name": "stdout",
     "output_type": "stream",
     "text": [
      "[]\n"
     ]
    },
    {
     "data": {
      "text/plain": [
       "['sample1.png',\n",
       " 'core_assist.png',\n",
       " 'mask2.png',\n",
       " 'image_ops_sample1.jpg',\n",
       " 'mask1.png',\n",
       " 'image_ops_sample3.png',\n",
       " 'image_ops_sample2.jpg']"
      ]
     },
     "execution_count": 9,
     "metadata": {},
     "output_type": "execute_result"
    }
   ],
   "source": [
    "duplicate = validate.find_dir_common_files(dir1=\"../assets\" , dir2 = \"../core_assist\" )\n",
    "print(duplicate)\n",
    "duplicate = validate.find_dir_common_files(dir1=\"../assets\" , dir2 = \"../assets\" )\n",
    "duplicate"
   ]
  },
  {
   "cell_type": "markdown",
   "metadata": {},
   "source": [
    "### check image dimension ans size\n",
    "`validate.image_size_and_dim(file_path, min_dim=(50, 50), max_size_mb=5)` : This function checks if an image meets the required dimensions and file size without fully loading the image.\n",
    "\n",
    "Parameters:\n",
    "- `file_path`: The path of the image to check.\n",
    "- `min_dim`: Minimum dimensions (width, height) for the image (default is (50, 50)).\n",
    "- `max_size_mb`: Maximum file size in megabytes (default is 5 MB).\n",
    "\n",
    "Returns:\n",
    "- `True` if the image meets the criteria.\n",
    "- `False` otherwise."
   ]
  },
  {
   "cell_type": "code",
   "execution_count": 10,
   "metadata": {},
   "outputs": [],
   "source": [
    "from core_assist import image_ops\n",
    "image_1_path = \"../assets/image_ops_sample2.jpg\"\n",
    "image_2_path = \"../assets/image_ops_sample1.jpg\"\n",
    "image_1 = image_ops.load_rgb(image_1_path)\n",
    "image_2 = image_ops.load_rgb(image_2_path)\n",
    "image_1 = image_ops.resize(image_1,(320,320))\n",
    "image_2 = image_ops.resize(image_2,(320,320))"
   ]
  },
  {
   "cell_type": "code",
   "execution_count": 11,
   "metadata": {},
   "outputs": [
    {
     "name": "stdout",
     "output_type": "stream",
     "text": [
      "(320, 320, 3)\n",
      "True\n",
      "False\n",
      "True\n",
      "True\n"
     ]
    }
   ],
   "source": [
    "print(image_1.shape)\n",
    "print(validate.image_size_and_dim(file_path=image_1_path))\n",
    "print(validate.image_size_and_dim(file_path=image_1_path,min_dim=(2000,2000)))\n",
    "print(validate.image_size_and_dim(file_path=image_1_path,min_dim=(500,500) , max_size_mb=1))\n",
    "print(validate.image_size_and_dim(file_path=image_1_path,min_dim=(100,100) , max_size_mb=2))"
   ]
  },
  {
   "cell_type": "markdown",
   "metadata": {},
   "source": [
    "### Check mask size with image\n",
    "`validate.match_mask_size(image_path, mask_path)`:This function checks if the mask size matches the image size for segmentation without fully loading the image and mask.\n",
    "\n",
    "Parameters:\n",
    "- `image_path`: The path to the image file.\n",
    "- `mask_path`: The path to the mask file.\n",
    "\n",
    "Returns:\n",
    "- `True` if the sizes of the image and mask match.\n",
    "- `False` otherwise."
   ]
  },
  {
   "cell_type": "code",
   "execution_count": 12,
   "metadata": {},
   "outputs": [],
   "source": [
    "mask1_path = \"../assets/mask1.png\"\n",
    "image1_path = \"../assets/sample1.png\"\n",
    "mask2_path= \"../assets/mask2.png\"\n",
    "image2_path = \"../assets/image_ops_sample1.jpg\""
   ]
  },
  {
   "cell_type": "code",
   "execution_count": 13,
   "metadata": {},
   "outputs": [
    {
     "name": "stdout",
     "output_type": "stream",
     "text": [
      "True\n",
      "False\n",
      "False\n"
     ]
    }
   ],
   "source": [
    "print(validate.match_mask_size(image_path=image1_path , mask_path=mask1_path))\n",
    "print(validate.match_mask_size(image_path=image2_path , mask_path=mask2_path))\n",
    "print(validate.match_mask_size(image_path=image2_path , mask_path=image_1_path))"
   ]
  },
  {
   "cell_type": "markdown",
   "metadata": {},
   "source": [
    "### Search in directory\n",
    "`validate.search_dir(dir, filename)` :This function checks if a file exists in the specified directory.\n",
    "\n",
    "Parameters:\n",
    "- `dir`: The directory to search in.\n",
    "- `filename`: The name of the file to search for.\n",
    "\n",
    "Returns:\n",
    "- `True` if the file exists in the directory.\n",
    "- `False` otherwise"
   ]
  },
  {
   "cell_type": "code",
   "execution_count": 14,
   "metadata": {},
   "outputs": [
    {
     "name": "stdout",
     "output_type": "stream",
     "text": [
      "True\n",
      "False\n"
     ]
    }
   ],
   "source": [
    "print(validate.search_dir(dir=\"../assets\" , filename=\"mask1.png\"))\n",
    "print(validate.search_dir(dir=\"../assets\" , filename=\"apple.png\"))"
   ]
  },
  {
   "cell_type": "markdown",
   "metadata": {},
   "source": [
    "### Search in CSV\n",
    "`validate.search_csv(csv_path, column, to_search)` :This function checks if a value exists in a specific column of a CSV file.\n",
    "\n",
    "Parameters:\n",
    "- `csv_path`: The path to the CSV file.\n",
    "- `column`: The column name or index to search in.\n",
    "- `to_search`: The value to search for in the column.\n",
    "\n",
    "Returns:\n",
    "- `True` if the value is found in the specified column.\n",
    "- `False` otherwise."
   ]
  },
  {
   "cell_type": "code",
   "execution_count": 15,
   "metadata": {},
   "outputs": [],
   "source": [
    "# print(validate.search_csv(csv_path=\"../assets/val.csv\" , column=\"image_name\" , to_search=\"IMG_6601.JPG\"))\n",
    "# print(validate.search_csv(csv_path=\"../assets/val.csv\" , column=\"image_name\" , to_search=\"IMG_601.JPG\"))"
   ]
  }
 ],
 "metadata": {
  "kernelspec": {
   "display_name": "modelling",
   "language": "python",
   "name": "python3"
  },
  "language_info": {
   "codemirror_mode": {
    "name": "ipython",
    "version": 3
   },
   "file_extension": ".py",
   "mimetype": "text/x-python",
   "name": "python",
   "nbconvert_exporter": "python",
   "pygments_lexer": "ipython3",
   "version": "3.8.20"
  }
 },
 "nbformat": 4,
 "nbformat_minor": 2
}
